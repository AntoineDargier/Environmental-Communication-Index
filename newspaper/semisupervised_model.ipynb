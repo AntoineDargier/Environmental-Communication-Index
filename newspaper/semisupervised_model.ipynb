{
 "cells": [
  {
   "cell_type": "code",
   "execution_count": 55,
   "metadata": {},
   "outputs": [],
   "source": [
    "from lbl2vec import Lbl2Vec\n",
    "from gensim.models.doc2vec import TaggedDocument\n",
    "from tqdm import tqdm\n",
    "import numpy as np\n",
    "from utils import *"
   ]
  },
  {
   "cell_type": "code",
   "execution_count": 65,
   "metadata": {},
   "outputs": [],
   "source": [
    "labels = ['planete', 'sport', 'economie', 'arts-stars', 'high-tech', 'politique', 'monde', 'societe', 'faits_divers', 'sante', 'justice']\n",
    "climat_kw = ['climat', \"environnement\", \"température\", \"réchauffement\", \"nature\"]\n",
    "sport_kw = ['sport', \"football\", \"rugby\", \"match\", \"compétition\", \"score\", \"coupe\", \"course\", \"basket\"]\n",
    "economie_kw = [\"économie\", \"argent\", \"inflation\", \"coût\", \"euro\", \"impôt\", \"dette\", \"croissance\"]\n",
    "technologie_kw = [\"technologie\", \"ordinateur\", 'téléphone', \"serveur\", \"high-tech\", \"écran\", \"nanotechnologies\"]\n",
    "politique_kw = [\"politique\", \"vote\", \"élection\", \"référendum\", \"parlement\", \"ministre\", \"débat\"]\n",
    "diverstissement_kw = [\"divertissement\", \"cinéma\", \"stars\", \"théâtre\"]\n",
    "sante_kw = [\"santé\", \"maladie\", \"méicament\"]\n",
    "justice_kw = [\"justice\", \"condamnation\", \"juger\"]\n",
    "faits_divers_kw = [\"fait\", \"divers\", \"fait divers\"]\n",
    "monde_kw = [\"monde\", \"guerre\", \"pays\"]\n",
    "societe_kw = [\"société\", \"manifestation\", \"population\"]\n",
    "\n",
    "\n",
    "descriptive_keywords = [climat_kw, sport_kw, economie_kw, diverstissement_kw, technologie_kw, politique_kw, monde_kw, societe_kw, faits_divers_kw, sante_kw, justice_kw]"
   ]
  },
  {
   "cell_type": "code",
   "execution_count": null,
   "metadata": {},
   "outputs": [],
   "source": [
    "df_articles = load_newspaper()"
   ]
  },
  {
   "cell_type": "code",
   "execution_count": 66,
   "metadata": {},
   "outputs": [],
   "source": [
    "train_dataset, test_dataset = extract_train_test_dataset(df_articles)"
   ]
  },
  {
   "cell_type": "code",
   "execution_count": 67,
   "metadata": {},
   "outputs": [
    {
     "name": "stderr",
     "output_type": "stream",
     "text": [
      "17000it [00:01, 14920.32it/s]\n"
     ]
    }
   ],
   "source": [
    "tagged_docs = []\n",
    "for index, row in tqdm(train_dataset.iterrows()):\n",
    "    text = row['body'].lower().split()\n",
    "    tag = row['label']\n",
    "    tagged_docs.append(TaggedDocument(text, [tag]))"
   ]
  },
  {
   "cell_type": "code",
   "execution_count": 68,
   "metadata": {},
   "outputs": [
    {
     "name": "stderr",
     "output_type": "stream",
     "text": [
      "2022-12-21 17:31:25,562 - Lbl2Vec - INFO - Train document and word embeddings\n",
      "2022-12-21 17:34:17,893 - Lbl2Vec - INFO - Train label embeddings\n",
      "2022-12-21 17:34:17,898 - Lbl2Vec - WARNING - The following keywords from the 'keywords_list' are unknown to the Doc2Vec model and therefore not used to train the model: impôt\n",
      "2022-12-21 17:34:17,900 - Lbl2Vec - WARNING - The following keywords from the 'keywords_list' are unknown to the Doc2Vec model and therefore not used to train the model: astronomie Einstein\n",
      "2022-12-21 17:34:17,902 - Lbl2Vec - WARNING - The following keywords from the 'keywords_list' are unknown to the Doc2Vec model and therefore not used to train the model: high-tech nanotechnologies\n"
     ]
    }
   ],
   "source": [
    "# init model\n",
    "model = Lbl2Vec(keywords_list=descriptive_keywords, tagged_documents=tagged_docs, label_names=labels)\n",
    "# train model\n",
    "model.fit()"
   ]
  },
  {
   "cell_type": "code",
   "execution_count": 69,
   "metadata": {},
   "outputs": [
    {
     "name": "stderr",
     "output_type": "stream",
     "text": [
      "2022-12-21 17:34:26,565 - Lbl2Vec - INFO - Get document embeddings from model\n",
      "2022-12-21 17:34:26,566 - Lbl2Vec - INFO - Calculate document<->label similarities\n"
     ]
    },
    {
     "data": {
      "text/html": [
       "<div>\n",
       "<style scoped>\n",
       "    .dataframe tbody tr th:only-of-type {\n",
       "        vertical-align: middle;\n",
       "    }\n",
       "\n",
       "    .dataframe tbody tr th {\n",
       "        vertical-align: top;\n",
       "    }\n",
       "\n",
       "    .dataframe thead th {\n",
       "        text-align: right;\n",
       "    }\n",
       "</style>\n",
       "<table border=\"1\" class=\"dataframe\">\n",
       "  <thead>\n",
       "    <tr style=\"text-align: right;\">\n",
       "      <th></th>\n",
       "      <th>doc_key</th>\n",
       "      <th>most_similar_label</th>\n",
       "      <th>highest_similarity_score</th>\n",
       "      <th>climat</th>\n",
       "      <th>sport</th>\n",
       "      <th>economie</th>\n",
       "      <th>sciences</th>\n",
       "      <th>technologie</th>\n",
       "      <th>politique</th>\n",
       "    </tr>\n",
       "  </thead>\n",
       "  <tbody>\n",
       "    <tr>\n",
       "      <th>0</th>\n",
       "      <td>0</td>\n",
       "      <td>climat</td>\n",
       "      <td>1.0</td>\n",
       "      <td>1.000000</td>\n",
       "      <td>-0.038134</td>\n",
       "      <td>0.164720</td>\n",
       "      <td>0.296873</td>\n",
       "      <td>0.094864</td>\n",
       "      <td>-0.009796</td>\n",
       "    </tr>\n",
       "    <tr>\n",
       "      <th>1</th>\n",
       "      <td>1</td>\n",
       "      <td>sport</td>\n",
       "      <td>1.0</td>\n",
       "      <td>-0.038134</td>\n",
       "      <td>1.000000</td>\n",
       "      <td>0.040454</td>\n",
       "      <td>0.130160</td>\n",
       "      <td>0.068155</td>\n",
       "      <td>0.123125</td>\n",
       "    </tr>\n",
       "    <tr>\n",
       "      <th>2</th>\n",
       "      <td>2</td>\n",
       "      <td>economie</td>\n",
       "      <td>1.0</td>\n",
       "      <td>0.164720</td>\n",
       "      <td>0.040454</td>\n",
       "      <td>1.000000</td>\n",
       "      <td>-0.012358</td>\n",
       "      <td>0.208165</td>\n",
       "      <td>0.174219</td>\n",
       "    </tr>\n",
       "    <tr>\n",
       "      <th>3</th>\n",
       "      <td>3</td>\n",
       "      <td>sciences</td>\n",
       "      <td>1.0</td>\n",
       "      <td>0.296873</td>\n",
       "      <td>0.130160</td>\n",
       "      <td>-0.012358</td>\n",
       "      <td>1.000000</td>\n",
       "      <td>0.218228</td>\n",
       "      <td>0.026183</td>\n",
       "    </tr>\n",
       "    <tr>\n",
       "      <th>4</th>\n",
       "      <td>4</td>\n",
       "      <td>technologie</td>\n",
       "      <td>1.0</td>\n",
       "      <td>0.094864</td>\n",
       "      <td>0.068155</td>\n",
       "      <td>0.208165</td>\n",
       "      <td>0.218228</td>\n",
       "      <td>1.000000</td>\n",
       "      <td>-0.062242</td>\n",
       "    </tr>\n",
       "    <tr>\n",
       "      <th>5</th>\n",
       "      <td>5</td>\n",
       "      <td>politique</td>\n",
       "      <td>1.0</td>\n",
       "      <td>-0.009796</td>\n",
       "      <td>0.123125</td>\n",
       "      <td>0.174219</td>\n",
       "      <td>0.026183</td>\n",
       "      <td>-0.062242</td>\n",
       "      <td>1.000000</td>\n",
       "    </tr>\n",
       "  </tbody>\n",
       "</table>\n",
       "</div>"
      ],
      "text/plain": [
       "   doc_key most_similar_label  highest_similarity_score    climat     sport  \\\n",
       "0        0             climat                       1.0  1.000000 -0.038134   \n",
       "1        1              sport                       1.0 -0.038134  1.000000   \n",
       "2        2           economie                       1.0  0.164720  0.040454   \n",
       "3        3           sciences                       1.0  0.296873  0.130160   \n",
       "4        4        technologie                       1.0  0.094864  0.068155   \n",
       "5        5          politique                       1.0 -0.009796  0.123125   \n",
       "\n",
       "   economie  sciences  technologie  politique  \n",
       "0  0.164720  0.296873     0.094864  -0.009796  \n",
       "1  0.040454  0.130160     0.068155   0.123125  \n",
       "2  1.000000 -0.012358     0.208165   0.174219  \n",
       "3 -0.012358  1.000000     0.218228   0.026183  \n",
       "4  0.208165  0.218228     1.000000  -0.062242  \n",
       "5  0.174219  0.026183    -0.062242   1.000000  "
      ]
     },
     "execution_count": 69,
     "metadata": {},
     "output_type": "execute_result"
    }
   ],
   "source": [
    "# get similarity scores from trained model\n",
    "model.predict_model_docs()"
   ]
  },
  {
   "cell_type": "code",
   "execution_count": 70,
   "metadata": {},
   "outputs": [
    {
     "name": "stderr",
     "output_type": "stream",
     "text": [
      "5500it [00:00, 19528.22it/s]\n"
     ]
    }
   ],
   "source": [
    "tagged_docs_test = []\n",
    "y_true = []\n",
    "for index, row in tqdm(test_dataset.iterrows()):\n",
    "    text = row['body'].lower().split()\n",
    "    tag = str(index)\n",
    "    y_true.append(row['label'])\n",
    "    tagged_docs_test.append(TaggedDocument(text, [tag]))"
   ]
  },
  {
   "cell_type": "code",
   "execution_count": 71,
   "metadata": {},
   "outputs": [
    {
     "name": "stderr",
     "output_type": "stream",
     "text": [
      "2022-12-21 17:34:43,643 - Lbl2Vec - INFO - Calculate document embeddings\n",
      "2022-12-21 17:34:55,664 - Lbl2Vec - INFO - Calculate document<->label similarities\n"
     ]
    }
   ],
   "source": [
    "results = model.predict_new_docs(tagged_docs=tagged_docs_test)"
   ]
  },
  {
   "cell_type": "code",
   "execution_count": 72,
   "metadata": {},
   "outputs": [],
   "source": [
    "dict_labels_model = {'planete': 0, 'sport': 1, 'economie': 2, 'arts-stars': 3, 'high-tech': 4, 'politique': 5, 'monde': 6, 'societe': 7, 'faits_divers': 8, 'sante': 9, 'justice': 10}\n",
    "r = results.most_similar_label.to_list()\n",
    "y_pred = []\n",
    "for lab in r:\n",
    "    y_pred.append(dict_labels_model[lab])"
   ]
  },
  {
   "cell_type": "code",
   "execution_count": 74,
   "metadata": {},
   "outputs": [
    {
     "data": {
      "text/plain": [
       "0.7483636363636363"
      ]
     },
     "execution_count": 74,
     "metadata": {},
     "output_type": "execute_result"
    }
   ],
   "source": [
    "acc = np.sum(np.array(y_pred) == np.array(y_true)) / len(y_pred)\n",
    "acc"
   ]
  },
  {
   "cell_type": "code",
   "execution_count": 77,
   "metadata": {},
   "outputs": [
    {
     "data": {
      "text/plain": [
       "array([[386,  82, 116, 199,  59, 158],\n",
       "       [ 13, 932,  12,  10,  13,  20],\n",
       "       [ 58,  56, 586,  22, 107, 171],\n",
       "       [ 18,  15,   2, 436,  21,   8],\n",
       "       [ 13,  30,  25,  54, 827,  51],\n",
       "       [  2,  13,  28,   2,   6, 949]], dtype=int64)"
      ]
     },
     "execution_count": 77,
     "metadata": {},
     "output_type": "execute_result"
    }
   ],
   "source": [
    "from sklearn.metrics import confusion_matrix\n",
    "cm = confusion_matrix(np.array(y_true), np.array(y_pred))\n",
    "cm"
   ]
  }
 ],
 "metadata": {
  "kernelspec": {
   "display_name": "Python 3",
   "language": "python",
   "name": "python3"
  },
  "language_info": {
   "codemirror_mode": {
    "name": "ipython",
    "version": 3
   },
   "file_extension": ".py",
   "mimetype": "text/x-python",
   "name": "python",
   "nbconvert_exporter": "python",
   "pygments_lexer": "ipython3",
   "version": "3.10.8"
  },
  "orig_nbformat": 4,
  "vscode": {
   "interpreter": {
    "hash": "bbc3c3d932324566a9bf4b4a52ddf64063695fc3adbf25b3fda92572428493bb"
   }
  }
 },
 "nbformat": 4,
 "nbformat_minor": 2
}
