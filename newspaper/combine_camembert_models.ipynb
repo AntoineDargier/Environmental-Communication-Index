{
 "cells": [
  {
   "cell_type": "code",
   "execution_count": 1,
   "metadata": {},
   "outputs": [],
   "source": [
    "import numpy as np\n",
    "import torch\n",
    "from transformers import CamembertTokenizer, CamembertForSequenceClassification\n",
    "from tqdm import tqdm\n",
    "from utils import *\n",
    "\n",
    "device = 'cuda' if torch.cuda.is_available() else 'cpu'"
   ]
  },
  {
   "cell_type": "code",
   "execution_count": 2,
   "metadata": {},
   "outputs": [],
   "source": [
    "df_articles = load_newspaper()"
   ]
  },
  {
   "cell_type": "code",
   "execution_count": null,
   "metadata": {},
   "outputs": [],
   "source": [
    "train_dataset, test_dataset = extract_train_test_dataset(df_articles)"
   ]
  },
  {
   "cell_type": "code",
   "execution_count": 6,
   "metadata": {},
   "outputs": [],
   "source": [
    "# Set gloabal parameters and tokenizer\n",
    "MAX_LEN_BODY = 512\n",
    "MAX_LEN_TITLE = 64\n",
    "batch_size = 16\n",
    "tokenizer = CamembertTokenizer.from_pretrained('camembert-base',do_lower_case=True)"
   ]
  },
  {
   "cell_type": "code",
   "execution_count": null,
   "metadata": {},
   "outputs": [],
   "source": [
    "test_dataloader_title = dataset_to_dataloader(test_dataset, tokenizer, level='title')\n",
    "test_dataloader_body, body_id, input_ids_body = dataset_to_dataloader(test_dataset, tokenizer, details=True)"
   ]
  },
  {
   "cell_type": "code",
   "execution_count": null,
   "metadata": {},
   "outputs": [],
   "source": [
    "# Load pretained titles_model\n",
    "model_title = CamembertForSequenceClassification.from_pretrained(\"camembert-base\", num_labels=6).to(device)\n",
    "model_title.load_state_dict(torch.load(\"../models/camembert_title.pt\"))\n",
    "\n",
    "# Load pretained body_model\n",
    "model_body = CamembertForSequenceClassification.from_pretrained(\"camembert-base\", num_labels=6).to(device)\n",
    "model_body.load_state_dict(torch.load(\"../models/camembert_body.pt\"))"
   ]
  },
  {
   "cell_type": "code",
   "execution_count": 13,
   "metadata": {},
   "outputs": [
    {
     "name": "stderr",
     "output_type": "stream",
     "text": [
      "100%|██████████| 344/344 [00:23<00:00, 14.94it/s]\n",
      "100%|██████████| 443/443 [05:16<00:00,  1.40it/s]\n"
     ]
    }
   ],
   "source": [
    "# predictions with both models\n",
    "with torch.no_grad():\n",
    "        proba_titles = []\n",
    "        for batch in tqdm(test_dataloader_title):\n",
    "            t_data = batch[0].to(device)\n",
    "            t_mask = batch[1].to(device)\n",
    "            y = model_title(t_data,attention_mask=t_mask).logits.cpu().detach().numpy()\n",
    "            for proba in y:\n",
    "                proba_titles.append(proba)\n",
    "\n",
    "        proba_body = []\n",
    "        for batch in tqdm(test_dataloader_body):\n",
    "            t_data = batch[0].to(device)\n",
    "            t_mask = batch[1].to(device)\n",
    "            y = model_body(t_data,attention_mask=t_mask).logits.cpu().detach().numpy()\n",
    "            for proba in y:\n",
    "                proba_body.append(proba)"
   ]
  },
  {
   "cell_type": "code",
   "execution_count": 14,
   "metadata": {},
   "outputs": [
    {
     "name": "stderr",
     "output_type": "stream",
     "text": [
      "100%|██████████| 5500/5500 [00:00<00:00, 166708.86it/s]\n"
     ]
    }
   ],
   "source": [
    "# regroup predictions for articles with long bodies (as long articles have been split before \n",
    "# the predictions because the model doesn't accept input with length above 512).\n",
    "# The importance of each prediction is proportionnal to the length of each part of the article.\n",
    "concat_proba_body = []\n",
    "c = 0\n",
    "for i in tqdm(range(len(proba_titles))):\n",
    "    proba = 0\n",
    "    n = 0\n",
    "    while c < len(body_id) and body_id[c] <= i:\n",
    "        ni = len(input_ids_body[c])\n",
    "        proba += ni * proba_body[c]\n",
    "        n += ni\n",
    "        c += 1\n",
    "    if n > 0:\n",
    "        concat_proba_body.append(proba / n)\n",
    "    else:\n",
    "        concat_proba_body.append(np.array([0]*6))\n"
   ]
  },
  {
   "cell_type": "code",
   "execution_count": 15,
   "metadata": {},
   "outputs": [],
   "source": [
    "# Compute the final probability\n",
    "final_proba_body = np.array(concat_proba_body)\n",
    "final_proba_titles = np.array(proba_titles)\n",
    "\n",
    "final_proba = (final_proba_body + final_proba_titles) / 2"
   ]
  },
  {
   "cell_type": "code",
   "execution_count": 16,
   "metadata": {},
   "outputs": [],
   "source": [
    "from scipy.special import softmax\n",
    "\n",
    "prob = softmax(final_proba, axis=1)"
   ]
  }
 ],
 "metadata": {
  "kernelspec": {
   "display_name": "Python 3",
   "language": "python",
   "name": "python3"
  },
  "language_info": {
   "codemirror_mode": {
    "name": "ipython",
    "version": 3
   },
   "file_extension": ".py",
   "mimetype": "text/x-python",
   "name": "python",
   "nbconvert_exporter": "python",
   "pygments_lexer": "ipython3",
   "version": "3.10.8"
  },
  "orig_nbformat": 4,
  "vscode": {
   "interpreter": {
    "hash": "bbc3c3d932324566a9bf4b4a52ddf64063695fc3adbf25b3fda92572428493bb"
   }
  }
 },
 "nbformat": 4,
 "nbformat_minor": 2
}
